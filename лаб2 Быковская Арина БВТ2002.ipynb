{
 "cells": [
  {
   "cell_type": "code",
   "execution_count": 2,
   "id": "505fb149",
   "metadata": {},
   "outputs": [],
   "source": [
    "import random\n",
    "import numpy as np\n",
    "import matplotlib.pyplot as plt\n",
    "from PIL import Image"
   ]
  },
  {
   "cell_type": "code",
   "execution_count": 3,
   "id": "cefd26b4",
   "metadata": {},
   "outputs": [],
   "source": [
    "INPUT_DIM = 64\n",
    "OUT_DIM = 10\n",
    "H_DIM = 32"
   ]
  },
  {
   "cell_type": "code",
   "execution_count": 47,
   "id": "60c707d4",
   "metadata": {},
   "outputs": [],
   "source": [
    "from sklearn import datasets\n",
    "\n",
    "mnist = datasets.load_digits()\n",
    "dataset = [(mnist.data[i][None, ...], mnist.target[i]) for i in range(len(mnist.target))]"
   ]
  },
  {
   "cell_type": "code",
   "execution_count": 69,
   "id": "58618545",
   "metadata": {},
   "outputs": [
    {
     "data": {
      "text/plain": [
       "1.0"
      ]
     },
     "execution_count": 69,
     "metadata": {},
     "output_type": "execute_result"
    }
   ],
   "source": [
    "# <0 зануляем\n",
    "def relu(t):\n",
    "    return np.maximum(t, 0)\n",
    "\n",
    "# функция активации\n",
    "def softmax(t):\n",
    "    out = np.exp(t)\n",
    "    return out / np.sum(out)\n",
    "\n",
    "def sparse_cross_entropy(z, y):\n",
    "    return -np.log(z[0, y])\n",
    "\n",
    "def to_full(y, num_classes):\n",
    "    y_full = np.zeros((1, num_classes))\n",
    "    y_full[0, y] = 1\n",
    "    return y_full\n",
    "\n",
    "# <0 зануляем, >0 - единица\n",
    "def relu_deriv(t):\n",
    "    return (t >= 0).astype(float)\n",
    "\n",
    "def normalization(t):\n",
    "    ver = abs(sum(sum(t)))\n",
    "    if ver > 1:\n",
    "        return 1\n",
    "    return ver\n",
    "\n",
    "W1 = np.random.rand(INPUT_DIM, H_DIM)\n",
    "b1 = np.random.rand(1, H_DIM)\n",
    "W2 = np.random.rand(H_DIM, OUT_DIM)\n",
    "b2 = np.random.rand(1, OUT_DIM)\n",
    "\n",
    "W1 = (W1 - 0.5) * 2 * np.sqrt(1/INPUT_DIM)\n",
    "b1 = (b1 - 0.5) * 2 * np.sqrt(1/INPUT_DIM)\n",
    "W2 = (W2 - 0.5) * 2 * np.sqrt(1/H_DIM)\n",
    "b2 = (b2 - 0.5) * 2 * np.sqrt(1/H_DIM)\n",
    "\n",
    "loss_arr = []\n",
    "\n",
    "for ep in range(200):\n",
    "    random.shuffle(dataset)\n",
    "    for i in range(len(dataset)):\n",
    "        # изображение и ответ\n",
    "        x, y = dataset[i]\n",
    "\n",
    "        # движение вперед\n",
    "        t1 = x @ W1 + b1\n",
    "        h1 = relu(t1)\n",
    "        t2 = h1 @ W2 + b2\n",
    "        z = softmax(t2)\n",
    "        # функция потерь\n",
    "        #E = np.sum(sparse_cross_entropy(z, y))\n",
    "        \n",
    "        # движение назад\n",
    "        \n",
    "        # преобразование ответа в массив\n",
    "        y_full = to_full(y, OUT_DIM)\n",
    "        # находим ошибку\n",
    "        dE_dt2 = z - y_full\n",
    "        # корректировка второго слоя\n",
    "        dE_dW2 = h1.T @ dE_dt2\n",
    "        # суммарная ошибка\n",
    "        dE_db2 = np.sum(dE_dt2, axis=0, keepdims=True)\n",
    "        dE_dh1 = dE_dt2 @ W2.T\n",
    "        dE_dt1 = dE_dh1 * relu_deriv(t1)\n",
    "        \n",
    "        E = normalization(dE_dt1)\n",
    "        \n",
    "        # корректировка первого слоя\n",
    "        dE_dW1 = x.T @ dE_dt1\n",
    "        dE_db1 = np.sum(dE_dt1, axis=0, keepdims=True)\n",
    "\n",
    "        # обновляем веса\n",
    "        W1 = W1 - 0.0002 * dE_dW1\n",
    "        b1 = b1 - 0.0002 * dE_db1\n",
    "        W2 = W2 - 0.0002 * dE_dW2\n",
    "        b2 = b2 - 0.0002 * dE_db2\n",
    "\n",
    "        loss_arr.append(E)\n",
    "\n",
    "def predict(x):\n",
    "    t1 = x @ W1 + b1\n",
    "    h1 = relu(t1)\n",
    "    t2 = h1 @ W2 + b2\n",
    "    z = softmax(t2)\n",
    "    return z\n",
    "\n",
    "def calc_accuracy():\n",
    "    correct = 0\n",
    "    for x, y in dataset:\n",
    "        z = predict(x)\n",
    "        y_pred = np.argmax(z)\n",
    "        if y_pred == y:\n",
    "            correct += 1\n",
    "    acc = correct / len(dataset)\n",
    "    return acc\n",
    "\n",
    "calc_accuracy()"
   ]
  },
  {
   "cell_type": "code",
   "execution_count": 70,
   "id": "9fdf05cc",
   "metadata": {},
   "outputs": [
    {
     "data": {
      "text/plain": [
       "0"
      ]
     },
     "execution_count": 70,
     "metadata": {},
     "output_type": "execute_result"
    }
   ],
   "source": [
    "preprocessed_image = (np.asarray(Image.open('./123/1.bmp').convert(\"L\"))/255)\n",
    "input_vector = preprocessed_image.reshape(1, -1)\n",
    "np.argmax(predict(input_vector))"
   ]
  },
  {
   "cell_type": "code",
   "execution_count": 71,
   "id": "2abd7f1b",
   "metadata": {},
   "outputs": [
    {
     "data": {
      "image/png": "[encoded data removed]",
      "text/plain": [
       "<Figure size 640x480 with 1 Axes>"
      ]
     },
     "metadata": {},
     "output_type": "display_data"
    }
   ],
   "source": [
    "plt.plot(loss_arr)\n",
    "plt.show()"
   ]
  },
  {
   "cell_type": "code",
   "execution_count": null,
   "id": "80350a76",
   "metadata": {},
   "outputs": [],
   "source": []
  }
 ],
 "metadata": {
  "kernelspec": {
   "display_name": "Python 3 (ipykernel)",
   "language": "python",
   "name": "python3"
  },
  "language_info": {
   "codemirror_mode": {
    "name": "ipython",
    "version": 3
   },
   "file_extension": ".py",
   "mimetype": "text/x-python",
   "name": "python",
   "nbconvert_exporter": "python",
   "pygments_lexer": "ipython3",
   "version": "3.10.4"
  }
 },
 "nbformat": 4,
 "nbformat_minor": 5
}
