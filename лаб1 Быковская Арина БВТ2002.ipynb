{
 "cells": [
  {
   "cell_type": "code",
   "execution_count": 1,
   "id": "891c4b18",
   "metadata": {},
   "outputs": [],
   "source": [
    "import random\n",
    "from random import seed\n",
    "from random import random\n",
    "import numpy as np\n",
    "from PIL import Image\n",
    "import os\n",
    "import matplotlib.pyplot as plt"
   ]
  },
  {
   "cell_type": "code",
   "execution_count": 2,
   "id": "82dff933",
   "metadata": {},
   "outputs": [],
   "source": [
    "#massive of tests\n",
    "massive_tests = []\n",
    "for root, dirs, files in os.walk(\"./цифры\"): \n",
    "    for filename in files:\n",
    "        massive_tests.append((np.asarray(Image.open(f'./цифры/{filename}').convert(\"L\"))/255).reshape(1, -1))\n",
    "        \n",
    "for i in range(len(massive_tests)):\n",
    "    for j in range(len(massive_tests[i][0])):\n",
    "        if massive_tests[i][0][j] == 1.0:\n",
    "            massive_tests[i][0][j] = 0.0\n",
    "        elif massive_tests[i][0][j] == 0.0:\n",
    "            massive_tests[i][0][j] = 1.0"
   ]
  },
  {
   "cell_type": "code",
   "execution_count": 3,
   "id": "9f2aad83",
   "metadata": {},
   "outputs": [
    {
     "data": {
      "text/plain": [
       "1.0"
      ]
     },
     "execution_count": 3,
     "metadata": {},
     "output_type": "execute_result"
    }
   ],
   "source": [
    "def sigmoid(x):\n",
    "    return 1 / (1 + np.exp(-x))\n",
    "\n",
    "def normalization(t):\n",
    "    ver = abs(sum(sum(t)))\n",
    "    if ver > 1:\n",
    "        return 1\n",
    "    return ver\n",
    "\n",
    "# Define neural network architecture\n",
    "class NeuralNetwork:\n",
    "    error = []\n",
    "    stop = False\n",
    "    def __init__(self, input_size, hidden_size):\n",
    "        #массив весов\n",
    "        self.weights1 = np.random.randn(input_size, hidden_size)\n",
    "        #массив нулей\n",
    "        self.bias1 = np.zeros((1, hidden_size))\n",
    "    def forward(self, x):\n",
    "        # движение вперед\n",
    "        hidden_output = np.dot(x, self.weights1) + self.bias1\n",
    "        hidden_output = sigmoid(hidden_output)\n",
    "        return hidden_output\n",
    "\n",
    "    def fit(self,x,right):\n",
    "        # вычисление выхода\n",
    "        hidden_output = np.dot(x, self.weights1) + self.bias1\n",
    "        hidden_output = sigmoid(hidden_output)\n",
    "        # нахождение ошибки\n",
    "        err = right - hidden_output\n",
    "        \n",
    "        adjustments = np.dot(x.T, 0.08 * err)\n",
    "        # корректировка весов и сдвига\n",
    "        self.weights1 += adjustments\n",
    "        self.bias1 += np.dot(0.08, err)\n",
    "        # визуализация ошибки\n",
    "        self.error.append(normalization(err))\n",
    "\n",
    "\n",
    "nn = NeuralNetwork(784, 4)\n",
    "\n",
    "right = [[1,0,0,0],[1,0,0,0],[1,0,0,0],[1,0,0,0],\n",
    "        [0,1,0,0],[0,1,0,0],[0,1,0,0],[0,1,0,0],\n",
    "        [0,0,1,0],[0,0,1,0],[0,0,1,0],[0,0,1,0],\n",
    "        [0,0,0,1],[0,0,0,1],[0,0,0,1],[0,0,0,1]]\n",
    "\n",
    "for j in range(20):\n",
    "    for i in range(len(massive_tests)):\n",
    "        nn.fit(massive_tests[i],right[i])\n",
    "\n",
    "def calc_accuracy():\n",
    "    correct = 0\n",
    "    for x in range(len(massive_tests)):\n",
    "        z = nn.forward(massive_tests[x])\n",
    "        y_pred = np.argmax(z)\n",
    "        if y_pred == np.argmax(right[x]):\n",
    "            correct += 1\n",
    "    acc = correct / len(massive_tests)\n",
    "    return acc\n",
    "\n",
    "calc_accuracy()"
   ]
  },
  {
   "cell_type": "code",
   "execution_count": 4,
   "id": "52bed5b7",
   "metadata": {},
   "outputs": [
    {
     "name": "stdout",
     "output_type": "stream",
     "text": [
      "1\n"
     ]
    }
   ],
   "source": [
    "preprocessed_image = (np.asarray(Image.open('./тест цифры/тест 1 Embrima.bmp').convert(\"L\"))/255)\n",
    "input_vector = preprocessed_image.reshape(1, -1)\n",
    "\n",
    "for i in range(len(input_vector[0])):\n",
    "    if input_vector[0][i] == 1.0:\n",
    "        input_vector[0][i] = 0.0\n",
    "    elif input_vector[0][i] == 0.0:\n",
    "        input_vector[0][i] = 1.0\n",
    "\n",
    "output = nn.forward(input_vector)\n",
    "\n",
    "if np.argmax(output) == 0:\n",
    "    print(1)\n",
    "if np.argmax(output) == 1:\n",
    "    print(2)\n",
    "if np.argmax(output) == 2:\n",
    "    print(3)\n",
    "if np.argmax(output) == 3:\n",
    "    print(5)"
   ]
  },
  {
   "cell_type": "code",
   "execution_count": 5,
   "id": "37adcd80",
   "metadata": {
    "scrolled": false
   },
   "outputs": [
    {
     "data": {
      "image/png": "[encoded data removed]",
      "text/plain": [
       "<Figure size 432x288 with 1 Axes>"
      ]
     },
     "metadata": {
      "needs_background": "light"
     },
     "output_type": "display_data"
    }
   ],
   "source": [
    "plt.plot(nn.error)\n",
    "plt.show()"
   ]
  },
  {
   "cell_type": "code",
   "execution_count": null,
   "id": "4e50287a",
   "metadata": {},
   "outputs": [],
   "source": []
  }
 ],
 "metadata": {
  "kernelspec": {
   "display_name": "Python 3 (ipykernel)",
   "language": "python",
   "name": "python3"
  },
  "language_info": {
   "codemirror_mode": {
    "name": "ipython",
    "version": 3
   },
   "file_extension": ".py",
   "mimetype": "text/x-python",
   "name": "python",
   "nbconvert_exporter": "python",
   "pygments_lexer": "ipython3",
   "version": "3.10.4"
  }
 },
 "nbformat": 4,
 "nbformat_minor": 5
}
